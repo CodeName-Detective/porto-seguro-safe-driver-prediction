{
 "cells": [
  {
   "cell_type": "markdown",
   "metadata": {},
   "source": [
    "For EDA, model selection and how information about the df_metedata pickle object click [here](https://www.kaggle.com/batofgotham/eda-and-feature-selection?scriptVersionId=28684443)"
   ]
  },
  {
   "cell_type": "code",
   "execution_count": 1,
   "metadata": {},
   "outputs": [
    {
     "name": "stdout",
     "output_type": "stream",
     "text": [
      "/kaggle/input/porto-seguro-safe-driver-prediction/sample_submission.csv\n",
      "/kaggle/input/porto-seguro-safe-driver-prediction/test.csv\n",
      "/kaggle/input/porto-seguro-safe-driver-prediction/train.csv\n",
      "/kaggle/input/pssdpickledfmetedatapickle/df_metedata_pickle\n"
     ]
    }
   ],
   "source": [
    "# This Python 3 environment comes with many helpful analytics libraries installed\n",
    "# It is defined by the kaggle/python docker image: https://github.com/kaggle/docker-python\n",
    "# For example, here's several helpful packages to load in \n",
    "\n",
    "import numpy as np # linear algebra\n",
    "import pandas as pd # data processing, CSV file I/O (e.g. pd.read_csv)\n",
    "\n",
    "# Input data files are available in the \"../input/\" directory.\n",
    "# For example, running this (by clicking run or pressing Shift+Enter) will list all files under the input directory\n",
    "\n",
    "import os\n",
    "for dirname, _, filenames in os.walk('/kaggle/input'):\n",
    "    for filename in filenames:\n",
    "        print(os.path.join(dirname, filename))\n",
    "\n",
    "# Any results you write to the current directory are saved as output."
   ]
  },
  {
   "cell_type": "code",
   "execution_count": 2,
   "metadata": {},
   "outputs": [],
   "source": [
    "import pandas as pd\n",
    "import numpy as np\n",
    "import matplotlib.pyplot as plt\n",
    "import seaborn as sns\n",
    "import warnings\n",
    "warnings.filterwarnings('ignore')"
   ]
  },
  {
   "cell_type": "code",
   "execution_count": 3,
   "metadata": {},
   "outputs": [],
   "source": [
    "input_path = '/kaggle/input/porto-seguro-safe-driver-prediction/'\n",
    "df = pd.read_csv(input_path+'train.csv')\n",
    "df_test = pd.read_csv(input_path+'test.csv')"
   ]
  },
  {
   "cell_type": "code",
   "execution_count": 4,
   "metadata": {},
   "outputs": [],
   "source": [
    "id_test = df_test['id']"
   ]
  },
  {
   "cell_type": "code",
   "execution_count": 5,
   "metadata": {},
   "outputs": [
    {
     "data": {
      "text/plain": [
       "(595212, 59)"
      ]
     },
     "execution_count": 5,
     "metadata": {},
     "output_type": "execute_result"
    }
   ],
   "source": [
    "df.shape"
   ]
  },
  {
   "cell_type": "code",
   "execution_count": 6,
   "metadata": {},
   "outputs": [],
   "source": [
    "target = df['target']"
   ]
  },
  {
   "cell_type": "code",
   "execution_count": 7,
   "metadata": {},
   "outputs": [
    {
     "data": {
      "text/plain": [
       "0    573518\n",
       "1     21694\n",
       "Name: target, dtype: int64"
      ]
     },
     "execution_count": 7,
     "metadata": {},
     "output_type": "execute_result"
    }
   ],
   "source": [
    "target.value_counts()"
   ]
  },
  {
   "cell_type": "markdown",
   "metadata": {},
   "source": [
    "- As it is imbalanced dataset we have to synthesize for new data points "
   ]
  },
  {
   "cell_type": "code",
   "execution_count": 8,
   "metadata": {},
   "outputs": [],
   "source": [
    "df.drop(columns=['target'],inplace=True)"
   ]
  },
  {
   "cell_type": "markdown",
   "metadata": {},
   "source": [
    "### Getting the Metadata Dataframe"
   ]
  },
  {
   "cell_type": "code",
   "execution_count": 9,
   "metadata": {},
   "outputs": [],
   "source": [
    "import pickle\n",
    "df_metadata = pickle.load(open('/kaggle/input/pssdpickledfmetedatapickle/df_metedata_pickle','rb'))"
   ]
  },
  {
   "cell_type": "code",
   "execution_count": 10,
   "metadata": {},
   "outputs": [
    {
     "data": {
      "text/html": [
       "<div>\n",
       "<style scoped>\n",
       "    .dataframe tbody tr th:only-of-type {\n",
       "        vertical-align: middle;\n",
       "    }\n",
       "\n",
       "    .dataframe tbody tr th {\n",
       "        vertical-align: top;\n",
       "    }\n",
       "\n",
       "    .dataframe thead th {\n",
       "        text-align: right;\n",
       "    }\n",
       "</style>\n",
       "<table border=\"1\" class=\"dataframe\">\n",
       "  <thead>\n",
       "    <tr style=\"text-align: right;\">\n",
       "      <th></th>\n",
       "      <th>DTypes</th>\n",
       "      <th>Dropped</th>\n",
       "      <th>Missing</th>\n",
       "    </tr>\n",
       "  </thead>\n",
       "  <tbody>\n",
       "    <tr>\n",
       "      <th>id</th>\n",
       "      <td>int64</td>\n",
       "      <td>True</td>\n",
       "      <td>7.000000</td>\n",
       "    </tr>\n",
       "    <tr>\n",
       "      <th>ps_ind_01</th>\n",
       "      <td>Ordinal</td>\n",
       "      <td>False</td>\n",
       "      <td>0.000000</td>\n",
       "    </tr>\n",
       "    <tr>\n",
       "      <th>ps_ind_02_cat</th>\n",
       "      <td>Categorical</td>\n",
       "      <td>False</td>\n",
       "      <td>1.000000</td>\n",
       "    </tr>\n",
       "    <tr>\n",
       "      <th>ps_ind_03</th>\n",
       "      <td>int64</td>\n",
       "      <td>False</td>\n",
       "      <td>4.423318</td>\n",
       "    </tr>\n",
       "    <tr>\n",
       "      <th>ps_ind_04_cat</th>\n",
       "      <td>Categorical</td>\n",
       "      <td>False</td>\n",
       "      <td>0.000000</td>\n",
       "    </tr>\n",
       "    <tr>\n",
       "      <th>ps_ind_05_cat</th>\n",
       "      <td>Categorical</td>\n",
       "      <td>False</td>\n",
       "      <td>0.000000</td>\n",
       "    </tr>\n",
       "    <tr>\n",
       "      <th>ps_ind_06_bin</th>\n",
       "      <td>Categorical</td>\n",
       "      <td>False</td>\n",
       "      <td>0.000000</td>\n",
       "    </tr>\n",
       "    <tr>\n",
       "      <th>ps_ind_07_bin</th>\n",
       "      <td>Categorical</td>\n",
       "      <td>False</td>\n",
       "      <td>0.000000</td>\n",
       "    </tr>\n",
       "    <tr>\n",
       "      <th>ps_ind_08_bin</th>\n",
       "      <td>Categorical</td>\n",
       "      <td>False</td>\n",
       "      <td>0.000000</td>\n",
       "    </tr>\n",
       "    <tr>\n",
       "      <th>ps_ind_09_bin</th>\n",
       "      <td>Categorical</td>\n",
       "      <td>False</td>\n",
       "      <td>0.000000</td>\n",
       "    </tr>\n",
       "    <tr>\n",
       "      <th>ps_ind_10_bin</th>\n",
       "      <td>Categorical</td>\n",
       "      <td>True</td>\n",
       "      <td>0.000000</td>\n",
       "    </tr>\n",
       "    <tr>\n",
       "      <th>ps_ind_11_bin</th>\n",
       "      <td>Categorical</td>\n",
       "      <td>True</td>\n",
       "      <td>0.000000</td>\n",
       "    </tr>\n",
       "    <tr>\n",
       "      <th>ps_ind_12_bin</th>\n",
       "      <td>Categorical</td>\n",
       "      <td>False</td>\n",
       "      <td>0.000000</td>\n",
       "    </tr>\n",
       "    <tr>\n",
       "      <th>ps_ind_13_bin</th>\n",
       "      <td>Categorical</td>\n",
       "      <td>True</td>\n",
       "      <td>0.000000</td>\n",
       "    </tr>\n",
       "    <tr>\n",
       "      <th>ps_ind_14</th>\n",
       "      <td>Ordinal</td>\n",
       "      <td>False</td>\n",
       "      <td>0.000000</td>\n",
       "    </tr>\n",
       "    <tr>\n",
       "      <th>ps_ind_15</th>\n",
       "      <td>Ordinal</td>\n",
       "      <td>False</td>\n",
       "      <td>7.000000</td>\n",
       "    </tr>\n",
       "    <tr>\n",
       "      <th>ps_ind_16_bin</th>\n",
       "      <td>Categorical</td>\n",
       "      <td>False</td>\n",
       "      <td>1.000000</td>\n",
       "    </tr>\n",
       "    <tr>\n",
       "      <th>ps_ind_17_bin</th>\n",
       "      <td>Categorical</td>\n",
       "      <td>False</td>\n",
       "      <td>0.000000</td>\n",
       "    </tr>\n",
       "    <tr>\n",
       "      <th>ps_ind_18_bin</th>\n",
       "      <td>Categorical</td>\n",
       "      <td>False</td>\n",
       "      <td>0.000000</td>\n",
       "    </tr>\n",
       "    <tr>\n",
       "      <th>ps_reg_01</th>\n",
       "      <td>Ordinal</td>\n",
       "      <td>False</td>\n",
       "      <td>0.900000</td>\n",
       "    </tr>\n",
       "    <tr>\n",
       "      <th>ps_reg_02</th>\n",
       "      <td>Ordinal</td>\n",
       "      <td>False</td>\n",
       "      <td>0.200000</td>\n",
       "    </tr>\n",
       "    <tr>\n",
       "      <th>ps_reg_03</th>\n",
       "      <td>float64</td>\n",
       "      <td>False</td>\n",
       "      <td>0.894047</td>\n",
       "    </tr>\n",
       "    <tr>\n",
       "      <th>ps_car_01_cat</th>\n",
       "      <td>Categorical</td>\n",
       "      <td>False</td>\n",
       "      <td>11.000000</td>\n",
       "    </tr>\n",
       "    <tr>\n",
       "      <th>ps_car_02_cat</th>\n",
       "      <td>Categorical</td>\n",
       "      <td>False</td>\n",
       "      <td>1.000000</td>\n",
       "    </tr>\n",
       "    <tr>\n",
       "      <th>ps_car_03_cat</th>\n",
       "      <td>Categorical</td>\n",
       "      <td>True</td>\n",
       "      <td>NaN</td>\n",
       "    </tr>\n",
       "    <tr>\n",
       "      <th>ps_car_04_cat</th>\n",
       "      <td>Categorical</td>\n",
       "      <td>False</td>\n",
       "      <td>0.000000</td>\n",
       "    </tr>\n",
       "    <tr>\n",
       "      <th>ps_car_05_cat</th>\n",
       "      <td>Categorical</td>\n",
       "      <td>False</td>\n",
       "      <td>1.000000</td>\n",
       "    </tr>\n",
       "    <tr>\n",
       "      <th>ps_car_06_cat</th>\n",
       "      <td>Categorical</td>\n",
       "      <td>False</td>\n",
       "      <td>11.000000</td>\n",
       "    </tr>\n",
       "    <tr>\n",
       "      <th>ps_car_07_cat</th>\n",
       "      <td>Categorical</td>\n",
       "      <td>False</td>\n",
       "      <td>1.000000</td>\n",
       "    </tr>\n",
       "    <tr>\n",
       "      <th>ps_car_08_cat</th>\n",
       "      <td>Categorical</td>\n",
       "      <td>False</td>\n",
       "      <td>1.000000</td>\n",
       "    </tr>\n",
       "    <tr>\n",
       "      <th>ps_car_09_cat</th>\n",
       "      <td>Categorical</td>\n",
       "      <td>False</td>\n",
       "      <td>2.000000</td>\n",
       "    </tr>\n",
       "    <tr>\n",
       "      <th>ps_car_10_cat</th>\n",
       "      <td>Categorical</td>\n",
       "      <td>True</td>\n",
       "      <td>1.000000</td>\n",
       "    </tr>\n",
       "    <tr>\n",
       "      <th>ps_car_11_cat</th>\n",
       "      <td>Categorical</td>\n",
       "      <td>False</td>\n",
       "      <td>104.000000</td>\n",
       "    </tr>\n",
       "    <tr>\n",
       "      <th>ps_car_11</th>\n",
       "      <td>Ordinal</td>\n",
       "      <td>False</td>\n",
       "      <td>3.000000</td>\n",
       "    </tr>\n",
       "    <tr>\n",
       "      <th>ps_car_12</th>\n",
       "      <td>float64</td>\n",
       "      <td>False</td>\n",
       "      <td>0.379947</td>\n",
       "    </tr>\n",
       "    <tr>\n",
       "      <th>ps_car_13</th>\n",
       "      <td>float64</td>\n",
       "      <td>False</td>\n",
       "      <td>0.813265</td>\n",
       "    </tr>\n",
       "    <tr>\n",
       "      <th>ps_car_14</th>\n",
       "      <td>float64</td>\n",
       "      <td>False</td>\n",
       "      <td>0.374691</td>\n",
       "    </tr>\n",
       "    <tr>\n",
       "      <th>ps_car_15</th>\n",
       "      <td>Ordinal</td>\n",
       "      <td>False</td>\n",
       "      <td>3.605551</td>\n",
       "    </tr>\n",
       "    <tr>\n",
       "      <th>ps_calc_01</th>\n",
       "      <td>Ordinal</td>\n",
       "      <td>True</td>\n",
       "      <td>0.449756</td>\n",
       "    </tr>\n",
       "    <tr>\n",
       "      <th>ps_calc_02</th>\n",
       "      <td>Ordinal</td>\n",
       "      <td>True</td>\n",
       "      <td>0.449589</td>\n",
       "    </tr>\n",
       "    <tr>\n",
       "      <th>ps_calc_03</th>\n",
       "      <td>Ordinal</td>\n",
       "      <td>True</td>\n",
       "      <td>0.449849</td>\n",
       "    </tr>\n",
       "    <tr>\n",
       "      <th>ps_calc_04</th>\n",
       "      <td>Ordinal</td>\n",
       "      <td>True</td>\n",
       "      <td>2.000000</td>\n",
       "    </tr>\n",
       "    <tr>\n",
       "      <th>ps_calc_05</th>\n",
       "      <td>Ordinal</td>\n",
       "      <td>True</td>\n",
       "      <td>2.000000</td>\n",
       "    </tr>\n",
       "    <tr>\n",
       "      <th>ps_calc_06</th>\n",
       "      <td>Ordinal</td>\n",
       "      <td>True</td>\n",
       "      <td>8.000000</td>\n",
       "    </tr>\n",
       "    <tr>\n",
       "      <th>ps_calc_07</th>\n",
       "      <td>Ordinal</td>\n",
       "      <td>True</td>\n",
       "      <td>3.000000</td>\n",
       "    </tr>\n",
       "    <tr>\n",
       "      <th>ps_calc_08</th>\n",
       "      <td>Ordinal</td>\n",
       "      <td>True</td>\n",
       "      <td>9.000000</td>\n",
       "    </tr>\n",
       "    <tr>\n",
       "      <th>ps_calc_09</th>\n",
       "      <td>Ordinal</td>\n",
       "      <td>True</td>\n",
       "      <td>2.000000</td>\n",
       "    </tr>\n",
       "    <tr>\n",
       "      <th>ps_calc_10</th>\n",
       "      <td>Ordinal</td>\n",
       "      <td>True</td>\n",
       "      <td>8.000000</td>\n",
       "    </tr>\n",
       "    <tr>\n",
       "      <th>ps_calc_11</th>\n",
       "      <td>Ordinal</td>\n",
       "      <td>True</td>\n",
       "      <td>5.000000</td>\n",
       "    </tr>\n",
       "    <tr>\n",
       "      <th>ps_calc_12</th>\n",
       "      <td>Ordinal</td>\n",
       "      <td>True</td>\n",
       "      <td>1.000000</td>\n",
       "    </tr>\n",
       "    <tr>\n",
       "      <th>ps_calc_13</th>\n",
       "      <td>Ordinal</td>\n",
       "      <td>True</td>\n",
       "      <td>2.000000</td>\n",
       "    </tr>\n",
       "    <tr>\n",
       "      <th>ps_calc_14</th>\n",
       "      <td>Ordinal</td>\n",
       "      <td>True</td>\n",
       "      <td>7.000000</td>\n",
       "    </tr>\n",
       "    <tr>\n",
       "      <th>ps_calc_15_bin</th>\n",
       "      <td>Categorical</td>\n",
       "      <td>True</td>\n",
       "      <td>0.000000</td>\n",
       "    </tr>\n",
       "    <tr>\n",
       "      <th>ps_calc_16_bin</th>\n",
       "      <td>Categorical</td>\n",
       "      <td>True</td>\n",
       "      <td>1.000000</td>\n",
       "    </tr>\n",
       "    <tr>\n",
       "      <th>ps_calc_17_bin</th>\n",
       "      <td>Categorical</td>\n",
       "      <td>True</td>\n",
       "      <td>1.000000</td>\n",
       "    </tr>\n",
       "    <tr>\n",
       "      <th>ps_calc_18_bin</th>\n",
       "      <td>Categorical</td>\n",
       "      <td>True</td>\n",
       "      <td>0.000000</td>\n",
       "    </tr>\n",
       "    <tr>\n",
       "      <th>ps_calc_19_bin</th>\n",
       "      <td>Categorical</td>\n",
       "      <td>True</td>\n",
       "      <td>0.000000</td>\n",
       "    </tr>\n",
       "    <tr>\n",
       "      <th>ps_calc_20_bin</th>\n",
       "      <td>Categorical</td>\n",
       "      <td>True</td>\n",
       "      <td>0.000000</td>\n",
       "    </tr>\n",
       "  </tbody>\n",
       "</table>\n",
       "</div>"
      ],
      "text/plain": [
       "                     DTypes  Dropped     Missing\n",
       "id                    int64     True    7.000000\n",
       "ps_ind_01           Ordinal    False    0.000000\n",
       "ps_ind_02_cat   Categorical    False    1.000000\n",
       "ps_ind_03             int64    False    4.423318\n",
       "ps_ind_04_cat   Categorical    False    0.000000\n",
       "ps_ind_05_cat   Categorical    False    0.000000\n",
       "ps_ind_06_bin   Categorical    False    0.000000\n",
       "ps_ind_07_bin   Categorical    False    0.000000\n",
       "ps_ind_08_bin   Categorical    False    0.000000\n",
       "ps_ind_09_bin   Categorical    False    0.000000\n",
       "ps_ind_10_bin   Categorical     True    0.000000\n",
       "ps_ind_11_bin   Categorical     True    0.000000\n",
       "ps_ind_12_bin   Categorical    False    0.000000\n",
       "ps_ind_13_bin   Categorical     True    0.000000\n",
       "ps_ind_14           Ordinal    False    0.000000\n",
       "ps_ind_15           Ordinal    False    7.000000\n",
       "ps_ind_16_bin   Categorical    False    1.000000\n",
       "ps_ind_17_bin   Categorical    False    0.000000\n",
       "ps_ind_18_bin   Categorical    False    0.000000\n",
       "ps_reg_01           Ordinal    False    0.900000\n",
       "ps_reg_02           Ordinal    False    0.200000\n",
       "ps_reg_03           float64    False    0.894047\n",
       "ps_car_01_cat   Categorical    False   11.000000\n",
       "ps_car_02_cat   Categorical    False    1.000000\n",
       "ps_car_03_cat   Categorical     True         NaN\n",
       "ps_car_04_cat   Categorical    False    0.000000\n",
       "ps_car_05_cat   Categorical    False    1.000000\n",
       "ps_car_06_cat   Categorical    False   11.000000\n",
       "ps_car_07_cat   Categorical    False    1.000000\n",
       "ps_car_08_cat   Categorical    False    1.000000\n",
       "ps_car_09_cat   Categorical    False    2.000000\n",
       "ps_car_10_cat   Categorical     True    1.000000\n",
       "ps_car_11_cat   Categorical    False  104.000000\n",
       "ps_car_11           Ordinal    False    3.000000\n",
       "ps_car_12           float64    False    0.379947\n",
       "ps_car_13           float64    False    0.813265\n",
       "ps_car_14           float64    False    0.374691\n",
       "ps_car_15           Ordinal    False    3.605551\n",
       "ps_calc_01          Ordinal     True    0.449756\n",
       "ps_calc_02          Ordinal     True    0.449589\n",
       "ps_calc_03          Ordinal     True    0.449849\n",
       "ps_calc_04          Ordinal     True    2.000000\n",
       "ps_calc_05          Ordinal     True    2.000000\n",
       "ps_calc_06          Ordinal     True    8.000000\n",
       "ps_calc_07          Ordinal     True    3.000000\n",
       "ps_calc_08          Ordinal     True    9.000000\n",
       "ps_calc_09          Ordinal     True    2.000000\n",
       "ps_calc_10          Ordinal     True    8.000000\n",
       "ps_calc_11          Ordinal     True    5.000000\n",
       "ps_calc_12          Ordinal     True    1.000000\n",
       "ps_calc_13          Ordinal     True    2.000000\n",
       "ps_calc_14          Ordinal     True    7.000000\n",
       "ps_calc_15_bin  Categorical     True    0.000000\n",
       "ps_calc_16_bin  Categorical     True    1.000000\n",
       "ps_calc_17_bin  Categorical     True    1.000000\n",
       "ps_calc_18_bin  Categorical     True    0.000000\n",
       "ps_calc_19_bin  Categorical     True    0.000000\n",
       "ps_calc_20_bin  Categorical     True    0.000000"
      ]
     },
     "execution_count": 10,
     "metadata": {},
     "output_type": "execute_result"
    }
   ],
   "source": [
    "df_metadata"
   ]
  },
  {
   "cell_type": "markdown",
   "metadata": {},
   "source": [
    " - Before Synthesizing the new data lets complete the pre processing"
   ]
  },
  {
   "cell_type": "markdown",
   "metadata": {},
   "source": [
    "### PreProcessing"
   ]
  },
  {
   "cell_type": "markdown",
   "metadata": {},
   "source": [
    "- Dropping Stastically insignificant columns, Filling the Missing values and changing the datatypes of columns accordingly"
   ]
  },
  {
   "cell_type": "code",
   "execution_count": 11,
   "metadata": {},
   "outputs": [],
   "source": [
    "def preprocessing(df):\n",
    "    df.replace(to_replace=-1,value=np.nan,inplace=True)\n",
    "    for col in df.columns:\n",
    "        #Dropping Insignificant Columns\n",
    "        if df_metadata.loc[col,'Dropped']:\n",
    "            df.drop(columns=[col],inplace=True)\n",
    "            continue\n",
    "        #Filling Missing Values\n",
    "        df[col].fillna(df_metadata.loc[col,'Missing'],inplace=True)\n",
    "        #Changing the datatype of columns\n",
    "        if (df_metadata.loc[col,'DTypes'] == 'Categorical') or (df_metadata.loc[col,'DTypes'] == 'Ordinal'):\n",
    "            df[col] = df[col].astype('category')"
   ]
  },
  {
   "cell_type": "code",
   "execution_count": 12,
   "metadata": {},
   "outputs": [
    {
     "data": {
      "text/plain": [
       "(595212, 58)"
      ]
     },
     "execution_count": 12,
     "metadata": {},
     "output_type": "execute_result"
    }
   ],
   "source": [
    "df.shape"
   ]
  },
  {
   "cell_type": "code",
   "execution_count": 13,
   "metadata": {},
   "outputs": [],
   "source": [
    "preprocessing(df)\n",
    "preprocessing(df_test)"
   ]
  },
  {
   "cell_type": "code",
   "execution_count": 14,
   "metadata": {},
   "outputs": [
    {
     "data": {
      "text/plain": [
       "ps_ind_01        0\n",
       "ps_ind_02_cat    0\n",
       "ps_ind_03        0\n",
       "ps_ind_04_cat    0\n",
       "ps_ind_05_cat    0\n",
       "ps_ind_06_bin    0\n",
       "ps_ind_07_bin    0\n",
       "ps_ind_08_bin    0\n",
       "ps_ind_09_bin    0\n",
       "ps_ind_12_bin    0\n",
       "ps_ind_14        0\n",
       "ps_ind_15        0\n",
       "ps_ind_16_bin    0\n",
       "ps_ind_17_bin    0\n",
       "ps_ind_18_bin    0\n",
       "ps_reg_01        0\n",
       "ps_reg_02        0\n",
       "ps_reg_03        0\n",
       "ps_car_01_cat    0\n",
       "ps_car_02_cat    0\n",
       "ps_car_04_cat    0\n",
       "ps_car_05_cat    0\n",
       "ps_car_06_cat    0\n",
       "ps_car_07_cat    0\n",
       "ps_car_08_cat    0\n",
       "ps_car_09_cat    0\n",
       "ps_car_11_cat    0\n",
       "ps_car_11        0\n",
       "ps_car_12        0\n",
       "ps_car_13        0\n",
       "ps_car_14        0\n",
       "ps_car_15        0\n",
       "dtype: int64"
      ]
     },
     "execution_count": 14,
     "metadata": {},
     "output_type": "execute_result"
    }
   ],
   "source": [
    "df.isnull().sum()"
   ]
  },
  {
   "cell_type": "code",
   "execution_count": 15,
   "metadata": {},
   "outputs": [
    {
     "data": {
      "text/plain": [
       "ps_ind_01        0\n",
       "ps_ind_02_cat    0\n",
       "ps_ind_03        0\n",
       "ps_ind_04_cat    0\n",
       "ps_ind_05_cat    0\n",
       "ps_ind_06_bin    0\n",
       "ps_ind_07_bin    0\n",
       "ps_ind_08_bin    0\n",
       "ps_ind_09_bin    0\n",
       "ps_ind_12_bin    0\n",
       "ps_ind_14        0\n",
       "ps_ind_15        0\n",
       "ps_ind_16_bin    0\n",
       "ps_ind_17_bin    0\n",
       "ps_ind_18_bin    0\n",
       "ps_reg_01        0\n",
       "ps_reg_02        0\n",
       "ps_reg_03        0\n",
       "ps_car_01_cat    0\n",
       "ps_car_02_cat    0\n",
       "ps_car_04_cat    0\n",
       "ps_car_05_cat    0\n",
       "ps_car_06_cat    0\n",
       "ps_car_07_cat    0\n",
       "ps_car_08_cat    0\n",
       "ps_car_09_cat    0\n",
       "ps_car_11_cat    0\n",
       "ps_car_11        0\n",
       "ps_car_12        0\n",
       "ps_car_13        0\n",
       "ps_car_14        0\n",
       "ps_car_15        0\n",
       "dtype: int64"
      ]
     },
     "execution_count": 15,
     "metadata": {},
     "output_type": "execute_result"
    }
   ],
   "source": [
    "df_test.isnull().sum()"
   ]
  },
  {
   "cell_type": "markdown",
   "metadata": {},
   "source": [
    "### Operating with outliers"
   ]
  },
  {
   "cell_type": "markdown",
   "metadata": {},
   "source": [
    "- The Idea is to find the outliers and replace them accordingly"
   ]
  },
  {
   "cell_type": "code",
   "execution_count": 16,
   "metadata": {},
   "outputs": [],
   "source": [
    "def outlier_processing(df,df_test):\n",
    "    for col in df.columns:\n",
    "        if df[col].dtype.name != 'category':\n",
    "            first_quartile, third_quartile = np.percentile(df[col],[25,75])\n",
    "            first_percetnile, ninetynine_percentile = np.percentile(df[col],[1,99])\n",
    "            IQR = third_quartile - first_quartile\n",
    "            lower_bound = first_quartile - (1.5*IQR)\n",
    "            upper_bound = third_quartile + (1.5*IQR)\n",
    "            df[col].loc[df[col]>upper_bound] = ninetynine_percentile\n",
    "            df_test[col].loc[df_test[col]>upper_bound] = ninetynine_percentile\n",
    "            df[col].loc[df[col]<lower_bound] = first_percetnile\n",
    "            df_test[col].loc[df_test[col]<lower_bound] = first_percetnile\n",
    "        "
   ]
  },
  {
   "cell_type": "code",
   "execution_count": 17,
   "metadata": {},
   "outputs": [],
   "source": [
    "#outlier_processing(df,df_test)"
   ]
  },
  {
   "cell_type": "markdown",
   "metadata": {},
   "source": [
    "### Encoding"
   ]
  },
  {
   "cell_type": "markdown",
   "metadata": {},
   "source": [
    "- The Idea is to encode the ordinal values with Ordinal Encoder and Categorical values with OneHot Encoder - unless they are binary"
   ]
  },
  {
   "cell_type": "code",
   "execution_count": 18,
   "metadata": {},
   "outputs": [],
   "source": [
    "ordinal_columns = [col for col in df.columns if df_metadata.loc[col,'DTypes'] == 'Ordinal' and df[col].nunique() > 2]"
   ]
  },
  {
   "cell_type": "code",
   "execution_count": 19,
   "metadata": {},
   "outputs": [],
   "source": [
    "categorical_columns_great_2 = [col for col in df.columns if df_metadata.loc[col,'DTypes'] == 'Categorical' and df[col].nunique() > 2]"
   ]
  },
  {
   "cell_type": "code",
   "execution_count": 20,
   "metadata": {},
   "outputs": [],
   "source": [
    "from sklearn.preprocessing import LabelEncoder\n",
    "for col in ordinal_columns:\n",
    "    label_encode = LabelEncoder()\n",
    "    df[col+'label'] = label_encode.fit_transform(df[col])\n",
    "    df_test[col+'label'] = label_encode.transform(df_test[col])\n",
    "    df.drop(columns=[col],inplace=True)\n",
    "    df_test.drop(columns=[col],inplace=True)"
   ]
  },
  {
   "cell_type": "code",
   "execution_count": 21,
   "metadata": {},
   "outputs": [],
   "source": [
    "df = pd.get_dummies(df,prefix=col,columns=categorical_columns_great_2,drop_first=True)\n",
    "df_test = pd.get_dummies(df_test,columns=categorical_columns_great_2,prefix=col,drop_first=True)"
   ]
  },
  {
   "cell_type": "code",
   "execution_count": 22,
   "metadata": {},
   "outputs": [
    {
     "data": {
      "text/plain": [
       "(595212, 178)"
      ]
     },
     "execution_count": 22,
     "metadata": {},
     "output_type": "execute_result"
    }
   ],
   "source": [
    "df.shape"
   ]
  },
  {
   "cell_type": "code",
   "execution_count": 23,
   "metadata": {},
   "outputs": [
    {
     "data": {
      "text/plain": [
       "(892816, 178)"
      ]
     },
     "execution_count": 23,
     "metadata": {},
     "output_type": "execute_result"
    }
   ],
   "source": [
    "df_test.shape"
   ]
  },
  {
   "cell_type": "markdown",
   "metadata": {},
   "source": [
    "### Lets do the scaling"
   ]
  },
  {
   "cell_type": "code",
   "execution_count": 24,
   "metadata": {},
   "outputs": [],
   "source": [
    "from sklearn.preprocessing import MinMaxScaler\n",
    "scaler = MinMaxScaler()"
   ]
  },
  {
   "cell_type": "code",
   "execution_count": 25,
   "metadata": {},
   "outputs": [],
   "source": [
    "df_train_scale = scaler.fit_transform(df)"
   ]
  },
  {
   "cell_type": "code",
   "execution_count": 26,
   "metadata": {},
   "outputs": [],
   "source": [
    "df_test_scale = scaler.transform(df_test)"
   ]
  },
  {
   "cell_type": "markdown",
   "metadata": {},
   "source": [
    "## Making data in to multiple folds"
   ]
  },
  {
   "cell_type": "code",
   "execution_count": 27,
   "metadata": {},
   "outputs": [],
   "source": [
    "from sklearn.model_selection import StratifiedKFold"
   ]
  },
  {
   "cell_type": "code",
   "execution_count": 28,
   "metadata": {},
   "outputs": [],
   "source": [
    "skf = StratifiedKFold(n_splits=5, shuffle=True, random_state=17)"
   ]
  },
  {
   "cell_type": "markdown",
   "metadata": {},
   "source": [
    "### Gini Custom Metric\n",
    "- Define the gini metric - from https://www.kaggle.com/c/ClaimPredictionChallenge/discussion/703#5897"
   ]
  },
  {
   "cell_type": "code",
   "execution_count": 29,
   "metadata": {},
   "outputs": [],
   "source": [
    "def gini(actual,pred,cmpcol = 0,sortcol = 1):\n",
    "    assert( len(actual) == len(pred) )\n",
    "    All = np.asarray(np.c_[ actual, pred, np.arange(len(actual)) ], dtype=np.float)\n",
    "    All = All[ np.lexsort((All[:,2], -1*All[:,1])) ]\n",
    "    totAllosses = All[:,0].sum()\n",
    "    giniSum = All[:,0].cumsum().sum() / totAllosses\n",
    "    giniSum -= (len(actual) + 1) / 2.\n",
    "    return giniSum / len(actual)\n",
    "\n",
    "def gini_normalized(a, p):\n",
    "    return gini(a, p) / gini(a, a)\n",
    "\n",
    "def gini_xgb(preds, dtrain):\n",
    "    labels = dtrain.get_label()\n",
    "    gini_score = gini_normalized(labels, preds)\n",
    "    return 'gini', gini_score"
   ]
  },
  {
   "cell_type": "markdown",
   "metadata": {},
   "source": [
    "### XGBoost"
   ]
  },
  {
   "cell_type": "code",
   "execution_count": 30,
   "metadata": {},
   "outputs": [],
   "source": [
    "import xgboost as xgb"
   ]
  },
  {
   "cell_type": "code",
   "execution_count": 31,
   "metadata": {},
   "outputs": [],
   "source": [
    "params = {\n",
    "    'min_child_weight': 10.0,\n",
    "    'objective': 'binary:logistic',\n",
    "    'max_depth': 7,\n",
    "    'max_delta_step': 1.8,\n",
    "    'colsample_bytree': 0.4,\n",
    "    'subsample': 0.8,\n",
    "    'eta': 0.025,\n",
    "    'gamma': 0.65,\n",
    "    'num_boost_round' : 1000\n",
    "    }"
   ]
  },
  {
   "cell_type": "code",
   "execution_count": 32,
   "metadata": {},
   "outputs": [
    {
     "name": "stdout",
     "output_type": "stream",
     "text": [
      "[FOLD 1/5]\n",
      "[0]\ttrain-error:0.036447\tvalid-error:0.036449\ttrain-gini:0.030843\tvalid-gini:0.031913\n",
      "Multiple eval metrics have been passed: 'valid-gini' will be used for early stopping.\n",
      "\n",
      "Will train until valid-gini hasn't improved in 70 rounds.\n",
      "[100]\ttrain-error:0.036447\tvalid-error:0.036449\ttrain-gini:0.317252\tvalid-gini:0.25364\n",
      "[200]\ttrain-error:0.036447\tvalid-error:0.036449\ttrain-gini:0.351991\tvalid-gini:0.26577\n",
      "[300]\ttrain-error:0.036447\tvalid-error:0.036449\ttrain-gini:0.379853\tvalid-gini:0.272672\n",
      "[400]\ttrain-error:0.036441\tvalid-error:0.036449\ttrain-gini:0.400003\tvalid-gini:0.275406\n",
      "[500]\ttrain-error:0.036439\tvalid-error:0.036449\ttrain-gini:0.416764\tvalid-gini:0.276221\n",
      "[600]\ttrain-error:0.036437\tvalid-error:0.036449\ttrain-gini:0.432025\tvalid-gini:0.276335\n",
      "Stopping. Best iteration:\n",
      "[569]\ttrain-error:0.036437\tvalid-error:0.036449\ttrain-gini:0.427559\tvalid-gini:0.276575\n",
      "\n",
      "[FOLD 2/5]\n",
      "[0]\ttrain-error:0.036447\tvalid-error:0.036449\ttrain-gini:0.039955\tvalid-gini:0.021712\n",
      "Multiple eval metrics have been passed: 'valid-gini' will be used for early stopping.\n",
      "\n",
      "Will train until valid-gini hasn't improved in 70 rounds.\n",
      "[100]\ttrain-error:0.036447\tvalid-error:0.036449\ttrain-gini:0.314354\tvalid-gini:0.267324\n",
      "[200]\ttrain-error:0.036447\tvalid-error:0.036449\ttrain-gini:0.349614\tvalid-gini:0.277681\n",
      "[300]\ttrain-error:0.036447\tvalid-error:0.036449\ttrain-gini:0.37829\tvalid-gini:0.282405\n",
      "Stopping. Best iteration:\n",
      "[305]\ttrain-error:0.036447\tvalid-error:0.036449\ttrain-gini:0.379833\tvalid-gini:0.282663\n",
      "\n",
      "[FOLD 3/5]\n",
      "[0]\ttrain-error:0.036449\tvalid-error:0.036441\ttrain-gini:0.036067\tvalid-gini:0.018562\n",
      "Multiple eval metrics have been passed: 'valid-gini' will be used for early stopping.\n",
      "\n",
      "Will train until valid-gini hasn't improved in 70 rounds.\n",
      "[100]\ttrain-error:0.036449\tvalid-error:0.036441\ttrain-gini:0.312018\tvalid-gini:0.262548\n",
      "[200]\ttrain-error:0.036449\tvalid-error:0.036441\ttrain-gini:0.346527\tvalid-gini:0.275046\n",
      "[300]\ttrain-error:0.036443\tvalid-error:0.036441\ttrain-gini:0.374283\tvalid-gini:0.281962\n",
      "[400]\ttrain-error:0.036439\tvalid-error:0.036441\ttrain-gini:0.395447\tvalid-gini:0.285341\n",
      "[500]\ttrain-error:0.036437\tvalid-error:0.036441\ttrain-gini:0.413844\tvalid-gini:0.286173\n",
      "[600]\ttrain-error:0.036439\tvalid-error:0.036441\ttrain-gini:0.428886\tvalid-gini:0.2863\n",
      "Stopping. Best iteration:\n",
      "[551]\ttrain-error:0.036437\tvalid-error:0.036441\ttrain-gini:0.421952\tvalid-gini:0.286648\n",
      "\n",
      "[FOLD 4/5]\n",
      "[0]\ttrain-error:0.036447\tvalid-error:0.036449\ttrain-gini:0.038603\tvalid-gini:0.037751\n",
      "Multiple eval metrics have been passed: 'valid-gini' will be used for early stopping.\n",
      "\n",
      "Will train until valid-gini hasn't improved in 70 rounds.\n",
      "[100]\ttrain-error:0.036447\tvalid-error:0.036449\ttrain-gini:0.314165\tvalid-gini:0.267571\n",
      "[200]\ttrain-error:0.036447\tvalid-error:0.036449\ttrain-gini:0.349915\tvalid-gini:0.279513\n",
      "[300]\ttrain-error:0.036447\tvalid-error:0.036449\ttrain-gini:0.374256\tvalid-gini:0.283844\n",
      "[400]\ttrain-error:0.036447\tvalid-error:0.036449\ttrain-gini:0.396086\tvalid-gini:0.285968\n",
      "[500]\ttrain-error:0.036447\tvalid-error:0.036449\ttrain-gini:0.412842\tvalid-gini:0.286799\n",
      "[600]\ttrain-error:0.036445\tvalid-error:0.036449\ttrain-gini:0.427707\tvalid-gini:0.287135\n",
      "Stopping. Best iteration:\n",
      "[581]\ttrain-error:0.036445\tvalid-error:0.036449\ttrain-gini:0.424728\tvalid-gini:0.287622\n",
      "\n",
      "[FOLD 5/5]\n",
      "[0]\ttrain-error:0.036447\tvalid-error:0.036449\ttrain-gini:0.033958\tvalid-gini:0.051746\n",
      "Multiple eval metrics have been passed: 'valid-gini' will be used for early stopping.\n",
      "\n",
      "Will train until valid-gini hasn't improved in 70 rounds.\n",
      "[100]\ttrain-error:0.036447\tvalid-error:0.036449\ttrain-gini:0.31256\tvalid-gini:0.26356\n",
      "[200]\ttrain-error:0.036447\tvalid-error:0.036449\ttrain-gini:0.347428\tvalid-gini:0.276726\n",
      "[300]\ttrain-error:0.036447\tvalid-error:0.036449\ttrain-gini:0.374671\tvalid-gini:0.284647\n",
      "[400]\ttrain-error:0.036445\tvalid-error:0.036449\ttrain-gini:0.39568\tvalid-gini:0.28873\n",
      "[500]\ttrain-error:0.036439\tvalid-error:0.036449\ttrain-gini:0.412964\tvalid-gini:0.289775\n",
      "Stopping. Best iteration:\n",
      "[512]\ttrain-error:0.036439\tvalid-error:0.036449\ttrain-gini:0.415128\tvalid-gini:0.289869\n",
      "\n"
     ]
    }
   ],
   "source": [
    "model_ensemble = []\n",
    "for i,(train_index, valid_index) in enumerate(skf.split(df_train_scale,target)):\n",
    "    print('[FOLD %d/%d]'%(i+1,5))\n",
    "    X_train,X_valid = df_train_scale[train_index],df_train_scale[valid_index]\n",
    "    y_train,y_valid = target.loc[train_index],target.loc[valid_index]\n",
    "    #Convert Data in to XGBoost format\n",
    "    df_train_xgb = xgb.DMatrix(X_train,y_train)\n",
    "    df_valid_xgb = xgb.DMatrix(X_valid,y_valid)\n",
    "    valid_list = [(df_train_xgb, 'train'), (df_valid_xgb, 'valid')]\n",
    "    xgb_model = xgb.train(params, df_train_xgb, 3000, valid_list, feval=gini_xgb, maximize=True, early_stopping_rounds=70,verbose_eval=100)\n",
    "    model_ensemble.append(xgb_model)"
   ]
  },
  {
   "cell_type": "markdown",
   "metadata": {},
   "source": [
    "### Predictions"
   ]
  },
  {
   "cell_type": "code",
   "execution_count": 33,
   "metadata": {},
   "outputs": [
    {
     "name": "stdout",
     "output_type": "stream",
     "text": [
      "[FOLD 1/5 Prediciton:]\n",
      "[FOLD 2/5 Prediciton:]\n",
      "[FOLD 3/5 Prediciton:]\n",
      "[FOLD 4/5 Prediciton:]\n",
      "[FOLD 5/5 Prediciton:]\n"
     ]
    }
   ],
   "source": [
    "predict_proba = 0\n",
    "df_test_xgb = xgb.DMatrix(df_test_scale)\n",
    "for i, model in enumerate(model_ensemble):\n",
    "    print('[FOLD %d/%d Prediciton:]'%(i+1,5))\n",
    "    predictions = xgb_model.predict(df_test_xgb)\n",
    "    predict_proba += predictions\n",
    "predict_proba = predict_proba/5"
   ]
  },
  {
   "cell_type": "markdown",
   "metadata": {},
   "source": [
    "## Submition"
   ]
  },
  {
   "cell_type": "code",
   "execution_count": 34,
   "metadata": {},
   "outputs": [
    {
     "data": {
      "text/html": [
       "<div>\n",
       "<style scoped>\n",
       "    .dataframe tbody tr th:only-of-type {\n",
       "        vertical-align: middle;\n",
       "    }\n",
       "\n",
       "    .dataframe tbody tr th {\n",
       "        vertical-align: top;\n",
       "    }\n",
       "\n",
       "    .dataframe thead th {\n",
       "        text-align: right;\n",
       "    }\n",
       "</style>\n",
       "<table border=\"1\" class=\"dataframe\">\n",
       "  <thead>\n",
       "    <tr style=\"text-align: right;\">\n",
       "      <th></th>\n",
       "      <th>id</th>\n",
       "      <th>target</th>\n",
       "    </tr>\n",
       "  </thead>\n",
       "  <tbody>\n",
       "    <tr>\n",
       "      <th>0</th>\n",
       "      <td>0</td>\n",
       "      <td>0.026637</td>\n",
       "    </tr>\n",
       "    <tr>\n",
       "      <th>1</th>\n",
       "      <td>1</td>\n",
       "      <td>0.024244</td>\n",
       "    </tr>\n",
       "    <tr>\n",
       "      <th>2</th>\n",
       "      <td>2</td>\n",
       "      <td>0.022462</td>\n",
       "    </tr>\n",
       "    <tr>\n",
       "      <th>3</th>\n",
       "      <td>3</td>\n",
       "      <td>0.016507</td>\n",
       "    </tr>\n",
       "    <tr>\n",
       "      <th>4</th>\n",
       "      <td>4</td>\n",
       "      <td>0.035768</td>\n",
       "    </tr>\n",
       "  </tbody>\n",
       "</table>\n",
       "</div>"
      ],
      "text/plain": [
       "   id    target\n",
       "0   0  0.026637\n",
       "1   1  0.024244\n",
       "2   2  0.022462\n",
       "3   3  0.016507\n",
       "4   4  0.035768"
      ]
     },
     "execution_count": 34,
     "metadata": {},
     "output_type": "execute_result"
    }
   ],
   "source": [
    "submit = pd.DataFrame({'id':id_test,'target':predict_proba})\n",
    "submit.to_csv('xgb_porto.csv',index=False) \n",
    "submit.head()"
   ]
  }
 ],
 "metadata": {
  "kernelspec": {
   "display_name": "Python 3",
   "language": "python",
   "name": "python3"
  },
  "language_info": {
   "codemirror_mode": {
    "name": "ipython",
    "version": 3
   },
   "file_extension": ".py",
   "mimetype": "text/x-python",
   "name": "python",
   "nbconvert_exporter": "python",
   "pygments_lexer": "ipython3",
   "version": "3.6.6"
  }
 },
 "nbformat": 4,
 "nbformat_minor": 4
}
